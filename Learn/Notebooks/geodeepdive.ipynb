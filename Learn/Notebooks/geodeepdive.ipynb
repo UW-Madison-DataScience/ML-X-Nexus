{
 "cells": [
  {
   "cell_type": "markdown",
   "id": "3d012010",
   "metadata": {},
   "source": [
    "# GeoDeepDive: Unlocking Knowledge from Scientific Literature\n",
    "### Devanshi Jain\n",
    "### [Nexus version](https://uw-madison-datascience.github.io/ML-X-Nexus/Learn/Notebooks/geodeepdive.html)\n",
    "### Categories\n",
    "- Books\n",
    "- Data\n",
    "- NLP\n",
    "- OCR\n",
    "- Scientific Text Mining\n"
   ]
  },
  {
   "cell_type": "markdown",
   "id": "592176be",
   "metadata": {},
   "source": [
    "[![](https://colab.research.google.com/assets/colab-badge.svg)](https://colab.research.google.com/github/UW-Madison-DataScience/ML-X-Nexus/blob/main/Learn/Notebooks/geodeepdive.ipynb)\n",
    "\n",
    "## Overview\n",
    "\n",
    "[GeoDeepDive (GDD)](https://geodeepdive.org/) is a cyberinfrastructure project designed to accelerate scientific discovery by extracting information from the vast and growing body of published scientific literature. While its roots are in geology, its applications span any domain that relies on published texts, including biology, materials science, medicine, and social sciences.\n",
    "\n",
    "At its core, GDD is a massive database of over 15 million scientific documents (articles, theses, reports) that have been processed through a high-performance computing pipeline. This pipeline performs:\n",
    "\n",
    "*   **Optical Character Recognition (OCR)** to convert scanned PDFs into machine-readable text.\n",
    "*   **Natural Language Processing (NLP)** to parse sentences, identify parts of speech, and perform named entity recognition (e.g., finding mineral names, locations, species).\n",
    "*   **Relation Extraction** to find and catalog relationships between entities (e.g., \"mineral X is found at location Y\").\n",
    "\n",
    "The result is not just a collection of texts, but a structured, queryable knowledge graph. Researchers can use GDD's public API to ask complex questions that would be impossible to answer by manual literature review, such as \"find all papers that mention a specific fossil and its geological age\" or \"extract all measured values of a particular chemical compound.\"\n",
    "\n",
    "## Prerequisites\n",
    "\n",
    "*   **Basic familiarity with Python** and making HTTP requests.\n",
    "*   A **GitHub account** (to use GDD's public API).\n",
    "*   An understanding of basic **NLP concepts** (Token, Sentence, Named Entity) is helpful but not strictly required to run the example.\n",
    "\n",
    "## Key Concepts and Definitions\n",
    "\n",
    "| Concept | Definition |\n",
    "| :--- | :--- |\n",
    "| **Document** | Any processed text unit in the GDD database, typically a scientific publication. |\n",
    "| **NLP** | Natural Language Processing, the field of AI concerned with interactions between computers and human language. |\n",
    "| **Named Entity Recognition (NER)** | An NLP task to identify and classify key information (entities) in text into predefined categories like persons, organizations, locations, etc. In GDD, these are often scientific terms. |\n",
    "| **API (Application Programming Interface)** | A set of rules and tools that allows different software applications to communicate with each other. GDD provides an API to query its database programmatically. |\n",
    "| **JSON** | JavaScript Object Notation, a lightweight data-interchange format that is easy for humans to read and write and for machines to parse and generate. It is the primary format for data returned by the GDD API. |\n",
    "\n",
    "## Tutorial: Querying the GeoDeepDive API for Mineral Mentions\n",
    "\n",
    "This tutorial will guide you through a simple example of using Python to query the GeoDeepDive API to find sentences that mention the mineral \"stishovite.\"\n",
    "\n",
    "### Step 1: Get Your GitHub Token\n",
    "The GDD API uses GitHub OAuth for authentication. You need to generate a personal access token.\n",
    "\n",
    "1.  Go to your GitHub [Settings](https://github.com/settings/profile).\n",
    "2.  Navigate to **Developer settings** > **Personal access tokens** > **Tokens (classic)**.\n",
    "3.  Click **Generate new token (classic)**. Give it a descriptive note (e.g., \"GeoDeepDive API\").\n",
    "4.  Select the `public_repo` scope. This is sufficient.\n",
    "5.  Click **Generate token** and **copy the token immediately** (you won't see it again!).\n",
    "\n",
    "### Step 2: Set Up Your Python Environment\n",
    "We'll use the `requests` library to make HTTP calls. Let's install it:"
   ]
  },
  {
   "cell_type": "code",
   "execution_count": null,
   "metadata": {},
   "outputs": [],
   "source": [
    "!pip install requests"
   ]
  },
  {
   "cell_type": "markdown",
   "metadata": {},
   "source": [
    "### Step 3: Configure Your Authentication\n",
    "Now, let's set up your authentication. Replace the placeholders with your actual GitHub credentials:"
   ]
  },
  {
   "cell_type": "code",
   "execution_count": null,
   "metadata": {},
   "outputs": [],
   "source": [
    "import requests\n",
    "import json\n",
    "\n",
    "# Replace these with your actual GitHub credentials\n",
    "GITHUB_USERNAME = \"YourGitHubUsername\" \n",
    "GITHUB_TOKEN = \"YOUR_GITHUB_TOKEN\"  # Replace with the token you generated\n",
    "\n",
    "print(\"Authentication configured successfully!\")"
   ]
  },
  {
   "cell_type": "markdown",
   "metadata": {},
   "source": [
    "### Step 4: Query the GeoDeepDive API\n",
    "Let's search for documents mentioning the mineral \"stishovite\":"
   ]
  },
  {
   "cell_type": "code",
   "execution_count": null,
   "metadata": {},
   "outputs": [],
   "source": [
    "# The public endpoint for the GDD API\n",
    "url = \"https://geodeepdive.org/api/articles\"\n",
    "\n",
    "# The parameters for our query. We want sentences about 'stishovite'\n",
    "params = {\n",
    "    \"term\": \"stishovite\",   # The word or phrase to search for\n",
    "    \"full_results\": True,   # Get full details, including sentences\n",
    "    \"sentences\": True       # Include the sentences in the response\n",
    "}\n",
    "\n",
    "# Make the GET request to the API with authentication\n",
    "response = requests.get(url, params=params, auth=(GITHUB_USERNAME, GITHUB_TOKEN))\n",
    "\n",
    "# Check if the request was successful\n",
    "if response.status_code == 200:\n",
    "    data = response.json()\n",
    "    print(f\" Found {data['success']['total']} documents mentioning 'stishovite'.\\n\")\n",
    "    \n",
    "    # Loop through the first few documents and print relevant sentences\n",
    "    for i, doc in enumerate(data['success']['data'][:3]):  # Look at first 3 docs\n",
    "        print(f\" Document {i+1}: {doc['_gddid']}\")\n",
    "        print(f\"   Title: {doc.get('title', 'No title available')}\")\n",
    "        print(\"   Sentences found:\")\n",
    "        \n",
    "        stishovite_sentences = [s for s in doc['sentences'] if 'stishovite' in s['text'].lower()]\n",
    "        \n",
    "        for j, sentence in enumerate(stishovite_sentences[:2]):  # Show first 2 sentences per doc\n",
    "            print(f\"     {j+1}. {sentence['text']}\")\n",
    "        \n",
    "        print(f\"   Total sentences with 'stishovite': {len(stishovite_sentences)}\")\n",
    "        print(\"\\n\" + \"─\" * 80 + \"\\n\")\n",
    "else:\n",
    "    print(f\" Error: {response.status_code}\")\n",
    "    print(response.text)"
   ]
  },
  {
   "cell_type": "markdown",
   "metadata": {},
   "source": [
    "### Step 5: Advanced Query - Filter by Journal\n",
    "Let's try a more specific query to find papers in specific journals:"
   ]
  },
  {
   "cell_type": "code",
   "execution_count": null,
   "metadata": {},
   "outputs": [],
   "source": [
    "# Search for stishovite in specific journals\n",
    "advanced_params = {\n",
    "    \"term\": \"stishovite\",\n",
    "    \"journal\": \"science,nature,geology\",  # Filter by journal names\n",
    "    \"full_results\": True,\n",
    "    \"sentences\": True,\n",
    "    \"limit\": 5  # Limit to 5 results\n",
    "}\n",
    "\n",
    "advanced_response = requests.get(url, params=advanced_params, auth=(GITHUB_USERNAME, GITHUB_TOKEN))\n",
    "\n",
    "if advanced_response.status_code == 200:\n",
    "    advanced_data = advanced_response.json()\n",
    "    print(f\"🔍 Found {advanced_data['success']['total']} documents in specified journals.\")\n",
    "    \n",
    "    if advanced_data['success']['total'] > 0:\n",
    "        print(\"\\n📊 Journal distribution:\")\n",
    "        journals = {}\n",
    "        for doc in advanced_data['success']['data']:\n",
    "            journal = doc.get('journal', 'Unknown')\n",
    "            journals[journal] = journals.get(journal, 0) + 1\n",
    "        \n",
    "        for journal, count in journals.items():\n",
    "            print(f\"   {journal}: {count} documents\")\n",
    "    else:\n",
    "        print(\"No documents found in the specified journals.\")\n",
    "else:\n",
    "    print(f\" Advanced query error: {advanced_response.status_code}\")"
   ]
  },
  {
   "cell_type": "markdown",
   "metadata": {},
   "source": [
    "### Step 6: Export Results (Optional)\n",
    "Let's export the results to a JSON file for further analysis:"
   ]
  },
  {
   "cell_type": "code",
   "execution_count": null,
   "metadata": {},
   "outputs": [],
   "source": [
    "import json\n",
    "from datetime import datetime\n",
    "\n",
    "# Export the results\n",
    "if response.status_code == 200:\n",
    "    export_data = {\n",
    "        \"query\": \"stishovite\",\n",
    "        \"execution_date\": datetime.now().isoformat(),\n",
    "        \"total_documents\": data['success']['total'],\n",
    "        \"sample_documents\": data['success']['data'][:5]  # First 5 documents\n",
    "    }\n",
    "    \n",
    "    with open('geodeepdive_results.json', 'w') as f:\n",
    "        json.dump(export_data, f, indent=2)\n",
    "    \n",
    "    print(\"💾 Results exported to 'geodeepdive_results.json'\")\n",
    "    \n",
    "    # Show a preview\n",
    "    print(\"\\n📋 Preview of exported data:\")\n",
    "    print(f\"Total documents: {export_data['total_documents']}\")\n",
    "    print(f\"Sample size: {len(export_data['sample_documents'])}\")"
   ]
  },
  {
   "cell_type": "markdown",
   "metadata": {},
   "source": [
    "## Summary\n",
    "\n",
    "GeoDeepDive is a powerful tool for moving beyond simple keyword searches to true knowledge extraction. By providing programmatic access to a deeply processed corpus of scientific literature, it enables researchers to ask complex, data-driven questions at a scale that was previously impossible.\n",
    "\n",
    "*   **Key Takeaway:** GDD turns unstructured text into structured, queryable data.\n",
    "*   **What we accomplished:** We successfully queried the GeoDeepDive API, retrieved scientific documents mentioning \"stishovite,\" filtered results by journal, and exported the data for further analysis.\n",
    "*   **Next Steps:** Explore the [official GeoDeepDive API documentation](https://geodeepdive.org/api_help) to learn about more advanced queries, such as filtering by author, journal, or year, and using its relation extraction capabilities.\n",
    "\n",
    "## Additional Resources\n",
    "\n",
    "*   [GeoDeepDive Official Website](https://geodeepdive.org/)\n",
    "*   [GitHub Guide for Personal Access Tokens](https://docs.github.com/en/authentication/keeping-your-account-and-data-secure/managing-your-personal-access-tokens)\n",
    "*   [Requests: HTTP for Humans (Python Library Docs)](https://requests.readthedocs.io/)\n",
    "\n",
    "\n",
    "**Note:** Remember to keep your GitHub token secure and never share it publicly. For production use, consider using environment variables or secure secret management."
   ]
  }
 ],
 "metadata": {
  "kernelspec": {
   "display_name": "Python 3",
   "language": "python",
   "name": "python3"
  }
 },
 "nbformat": 4,
 "nbformat_minor": 4
}
