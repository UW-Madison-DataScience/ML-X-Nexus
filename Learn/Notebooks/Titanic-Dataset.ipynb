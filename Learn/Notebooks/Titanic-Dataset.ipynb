{
 "cells": [
  {
   "cell_type": "markdown",
   "id": "13a9eacf",
   "metadata": {},
   "source": [
    "# Exploring the Titanic Dataset\n",
    "### Chris Endemann, endemann@wisc.edu\n",
    "### [Nexus version](https://uw-madison-datascience.github.io/ML-X-Nexus/Learn/Notebooks/Titanic-Dataset.html)\n",
    "### Categories\n",
    "- Notebooks\n",
    "- EDA\n",
    "- Tabular\n",
    "- Code-along\n"
   ]
  },
  {
   "cell_type": "markdown",
   "id": "c742e412",
   "metadata": {},
   "source": [
    "[![](https://colab.research.google.com/assets/colab-badge.svg)](https://colab.research.google.com/github/UW-Madison-DataScience/ML-X-Nexus/blob/main/Learn/Notebooks/Titanic-Dataset.ipynb)\n",
    "\n",
    "### Data & Problem Intro\n",
    "The Titanic dataset is a well-known dataset that contains information about the passengers of the Titanic ship.It includes variables such as age, gender, class, fare, and whether each passenger survived.\n",
    "\n",
    "The problem we are exploring is binary classification: predicting whether a passenger survived based on their features.The goal of this exploratory data analysis (EDA) is to uncover insights that can guide our modeling decisions, such as identifying important features, handling missing data, and addressing bias in the dataset (e.g., imbalances in survival rate by gender or class).\n",
    "\n",
    "## Step 0: Looking Up Each Feature\n",
    "Before diving into the analysis, it's important to understand what each feature in the dataset represents. This ensures we're interpreting the data correctly and allows us to make informed decisions during the analysis.\n",
    "\n",
    "### Titanic Dataset Features:\n",
    "- **survived**: Whether the passenger survived (0 = No, 1 = Yes).\n",
    "- **pclass**: Ticket class (1 = 1st, 2 = 2nd, 3 = 3rd).\n",
    "- **sex**: Gender of the passenger.\n",
    "- **age**: Age of the passenger in years. Some values are missing.\n",
    "- **sibsp**: Number of siblings/spouses aboard the Titanic.\n",
    "- **parch**: Number of parents/children aboard the Titanic.\n",
    "- **fare**: Passenger fare.\n",
    "- **embarked**: Port of embarkation (C = Cherbourg; Q = Queenstown; S = Southampton).\n",
    "- **class**: Duplicate of 'pclass' (used for plotting by Seaborn).\n",
    "- **who**: Describes whether the passenger is a man, woman, or child.\n",
    "- **adult_male**: Indicates whether the passenger is an adult male (True/False).\n",
    "- **deck**: The deck the passenger was on (missing for many passengers).\n",
    "- **embark_town**: The name of the town where the passenger boarded.\n",
    "- **alive**: Indicator of whether the passenger survived (Yes/No, derived from 'survived').\n",
    "- **alone**: Indicates whether the passenger was traveling alone (True/False).\n",
    "\n",
    "## Step 1: Visualizing data in its rawest form\n",
    "Let's take a look at a small sample of the dataset to understand the raw data we're working with. This gives us a chance to spot obvious issues or patterns.\n",
    "\n",
    "### Import libraries and load dataset"
   ]
  },
  {
   "cell_type": "code",
   "execution_count": null,
   "metadata": {
    "colab": {
     "base_uri": "https://localhost:8080/",
     "height": 206
    },
    "outputId": "78324c3f-a518-4686-d059-97af32f58f42"
   },
   "outputs": [],
   "source": [
    "# Import necessary libraries\n",
    "import pandas as pd\n",
    "import seaborn as sns\n",
    "import matplotlib.pyplot as plt\n",
    "\n",
    "# Load the Titanic dataset from seaborn\n",
    "df = sns.load_dataset('titanic')\n",
    "\n",
    "# Display the first few rows of the dataset\n",
    "df.head()"
   ]
  },
  {
   "cell_type": "code",
   "execution_count": null,
   "metadata": {
    "colab": {
     "base_uri": "https://localhost:8080/",
     "height": 1000
    },
    "outputId": "88dd76e7-dbf5-4b1f-8a3e-b0606c932020"
   },
   "outputs": [],
   "source": [
    "# Show a small random sample of the data\n",
    "print(\"Sample of 30 passengers:\")\n",
    "df.sample(30)"
   ]
  },
  {
   "cell_type": "markdown",
   "metadata": {},
   "source": [
    "### Insights\n",
    "- We see various features such as age, sex, class, fare, and whether the passenger survived.\n",
    "- This helps us get a quick overview of what kind of data we're working with, including potential issues like missing values.\n",
    "- Appears we have some redundant columns.\n",
    "- Some NaNs clearly visible in deck and age.\n",
    "\n",
    "#### Remove redundant columns\n",
    "It looks like alive and survived are identical. Same for embarked and emback_town. Let's run a check to see if these columns are truly identical and remove them, if so."
   ]
  },
  {
   "cell_type": "code",
   "execution_count": null,
   "metadata": {
    "colab": {
     "base_uri": "https://localhost:8080/"
    },
    "outputId": "17836d3b-2e74-4d2f-dff4-171406fbd2b7"
   },
   "outputs": [],
   "source": [
    "# Check if the two columns are identical\n",
    "are_identical = df['survived'].equals(df['alive'].apply(lambda x: 1 if x == 'yes' else 0))\n",
    "\n",
    "# Print the result\n",
    "print(f\"Are 'survived' and 'alive' identical? {are_identical}\")"
   ]
  },
  {
   "cell_type": "code",
   "execution_count": null,
   "metadata": {
    "colab": {
     "base_uri": "https://localhost:8080/"
    },
    "outputId": "8057781d-6461-4b8e-e5be-4cf30065abfc"
   },
   "outputs": [],
   "source": [
    "# Check unique values in both columns\n",
    "print(\"Unique values in 'embarked':\", df['embarked'].unique())\n",
    "print(\"Unique values in 'embark_town':\", df['embark_town'].unique())\n",
    "\n",
    "# Map 'embarked' codes to 'embark_town' names\n",
    "embarked_mapping = {'S': 'Southampton', 'C': 'Cherbourg', 'Q': 'Queenstown'}\n",
    "\n",
    "# Apply the mapping to the 'embarked' column\n",
    "df['embarked_mapped'] = df['embarked'].map(embarked_mapping)\n",
    "\n",
    "# Check if the mapped 'embarked' column is identical to 'embark_town'\n",
    "are_identical = df['embarked_mapped'].equals(df['embark_town'])\n",
    "\n",
    "# Print the result\n",
    "print(f\"Are 'embarked' and 'embark_town' identical? {are_identical}\")"
   ]
  },
  {
   "cell_type": "code",
   "execution_count": null,
   "metadata": {},
   "outputs": [],
   "source": [
    "df.drop('alive',axis=1,inplace=True)\n",
    "df.drop('embark_town',axis=1,inplace=True)\n",
    "df.drop('embarked_mapped',axis=1,inplace=True)\n",
    "df.drop('class',axis=1,inplace=True) #explicitly equiv. from documentation"
   ]
  },
  {
   "cell_type": "markdown",
   "metadata": {},
   "source": [
    "## Step 2: Check data types"
   ]
  },
  {
   "cell_type": "code",
   "execution_count": null,
   "metadata": {
    "colab": {
     "base_uri": "https://localhost:8080/",
     "height": 429
    },
    "outputId": "1cc28853-848e-49d6-884b-b0261cb25213"
   },
   "outputs": [],
   "source": [
    "df.dtypes"
   ]
  },
  {
   "cell_type": "markdown",
   "metadata": {},
   "source": [
    "## Step 3: Basic Statistics\n",
    "Now we'll summarize the numerical and categorical columns to better understand the central tendencies, variability, and potential missing data.\n",
    "\n",
    "When exploring numerical data:\n",
    "\n",
    "- **Mean vs Median**: Compare the mean and median. If the mean is much higher or lower than the median, this suggests skewness in the data, possibly due to outliers.\n",
    "- **Min and Max**: Look at the minimum and maximum values to detect extreme outliers or potential data entry errors.\n",
    "- **Standard deviation**: A high standard deviation indicates that the data points are spread out over a wide range of values, while a low standard deviation suggests that data points are clustered around the mean.\n",
    "\n",
    "When exploring **categorical data**:\n",
    "\n",
    "- **Unique counts**: Check the number of unique categories. For example, the 'sex' column has two unique categories ('male' and 'female'), while 'pclass' has three.\n",
    "- **Mode**: The mode (most frequent category) helps us understand which category dominates the dataset. For example, if most passengers are male or most belong to a particular class, this would inform our analysis.\n",
    "- **Frequency distribution**: Look at the frequency of each category to identify potential imbalances. For example, are there more passengers from a particular class or embarkation point? Imbalanced categories can bias the model if not handled properly.\n",
    "- **Missing or rare categories**: If a category has very few occurrences, this might suggest noise or anomalies in the data."
   ]
  },
  {
   "cell_type": "code",
   "execution_count": null,
   "metadata": {
    "colab": {
     "base_uri": "https://localhost:8080/",
     "height": 432
    },
    "outputId": "329798ee-a7a2-4853-b543-7c966b899d11"
   },
   "outputs": [],
   "source": [
    "# Summarize the numerical and categorical columns\n",
    "print(\"\\nBasic statistics for numerical columns:\")\n",
    "df.describe(include='all') # include='all' ensures both numeric and binary features are described"
   ]
  },
  {
   "cell_type": "markdown",
   "metadata": {},
   "source": [
    "### Insights\n",
    "- **Age**: The mean age is around 30, but with missing values and some extreme values (min = 0.42, max = 80). The mean and median are close, suggesting a fairly symmetric distribution for most passengers.\n",
    "- **Fare**: The fare has a wide range, from 0 to 512. This large range and the difference between mean and median (mean > median) suggest the presence of outliers, with some passengers paying much higher fares.\n",
    "- **Parch and SibSp**: Most passengers had few or no relatives onboard, with a median of 0 for both columns.\n",
    "- **Pclass**: Most passengers are in 3rd class (mode: 3).\n",
    "\n",
    "\n",
    "The df.describe(include='object') part of the code is used to generate summary statistics specifically for categorical (or object) columns in a DataFrame."
   ]
  },
  {
   "cell_type": "code",
   "execution_count": null,
   "metadata": {
    "colab": {
     "base_uri": "https://localhost:8080/",
     "height": 213
    },
    "outputId": "d4dd6b5f-2b74-40a9-c352-a73c5c86ac74"
   },
   "outputs": [],
   "source": [
    "print(\"\\nBasic statistics for categorical columns:\")\n",
    "df.describe(include='object')"
   ]
  },
  {
   "cell_type": "markdown",
   "metadata": {},
   "source": [
    "### Insights\n",
    "- A significant portion of passengers did not survive (survival rate is less than 50%).\n",
    "- There are more males than females in this data, with adult males being the most common (vs boys)\n",
    "- Southampton (S) is the most common embarkation point (out of three options)\n",
    "\n",
    "\n",
    "While this summary provides useful information, it does not reveal the distribution of all categories, especially the rare categories. For instance, it only shows the most frequent category (the mode) and its frequency, but it doesn't show how the other categories are distributed, especially if there are categories with very few occurrences.\n",
    "\n",
    "## Step 2.1: Identifying Rare Categories\n",
    "To detect rare categories in the dataset, we will examine the frequency distribution of each categorical column. This will help us understand if there are categories with very few occurrences, which could either be noise or anomalies.\n",
    "\n",
    "Rare categories are important to identify because they can introduce bias or affect model performance if not handled properly."
   ]
  },
  {
   "cell_type": "code",
   "execution_count": null,
   "metadata": {
    "colab": {
     "base_uri": "https://localhost:8080/"
    },
    "outputId": "97e1d61d-42f4-426e-c0cd-32dad7cdc744"
   },
   "outputs": [],
   "source": [
    "# Frequency distribution for categorical columns\n",
    "categorical_cols = df.select_dtypes(include='object').columns\n",
    "\n",
    "for col in categorical_cols:\n",
    "    print(f\"Value counts for {col}:\")\n",
    "    print(df[col].value_counts())\n",
    "    print(\"\\n\")"
   ]
  },
  {
   "cell_type": "markdown",
   "metadata": {},
   "source": [
    "### Insights\n",
    "- **Sex**: No rare categories, with a fairly even distribution between males and females.\n",
    "- **Pclass**: Most passengers are in 3rd class, but no rare categories.\n",
    "- **Embarked**: The 'C' and 'Q' embarkation points are far less common than 'S' (Southampton).\n",
    "\n",
    "## Step 3: Counting Missing Values (NaNs)\n",
    "To get a better understanding of where data is missing, we'll count the number of NaN values in each column.\n",
    "This is important for understanding which features will need imputation or may need to be excluded from analysis."
   ]
  },
  {
   "cell_type": "code",
   "execution_count": null,
   "metadata": {
    "colab": {
     "base_uri": "https://localhost:8080/"
    },
    "outputId": "4f3a5444-ab2a-44d2-bd20-7adfd9183700"
   },
   "outputs": [],
   "source": [
    "# Count the number of NaN values in each column\n",
    "print(\"Number of NaNs per column:\")\n",
    "print(df.isna().sum())"
   ]
  },
  {
   "cell_type": "markdown",
   "metadata": {},
   "source": [
    "## Step 3.1: Visualizing Missing Data\n",
    "Visualizing missing data helps us understand how much data is missing and where. This informs how we should handle missing values during preprocessing.\n",
    "\n",
    "The 'age' column has many missing values, which could affect our analysis, especially when trying to assess survival rates across different age groups. One potential approach to deal with missing 'age' values is to use the 'who' feature, which categorizes passengers as men, women, or children. By looking at the distribution of age within each 'who' group, we could potentially im"
   ]
  },
  {
   "cell_type": "code",
   "execution_count": null,
   "metadata": {
    "colab": {
     "base_uri": "https://localhost:8080/",
     "height": 1000
    },
    "outputId": "b7ba76b1-cb30-478a-a991-89fe24535211"
   },
   "outputs": [],
   "source": [
    "import missingno as msno\n",
    "\n",
    "# Visualize missing data using missingno\n",
    "msno.matrix(df)\n",
    "plt.show()\n",
    "\n",
    "msno.bar(df)\n",
    "plt.show()"
   ]
  },
  {
   "cell_type": "markdown",
   "metadata": {},
   "source": [
    "### Insights\n",
    "- The 'age' and 'deck' columns have a significant number of missing values.\n",
    "- 'embarked' has a couple of missing values\n",
    "- We'll need to decide how to handle these NaNs before proceeding with modeling. The 'deck' column may have too many missing values to be useful without significant imputation."
   ]
  },
  {
   "cell_type": "code",
   "execution_count": null,
   "metadata": {},
   "outputs": [],
   "source": [
    "# remove deck column (not enough info here)\n",
    "df.drop(['deck'],axis=1,inplace=True)"
   ]
  },
  {
   "cell_type": "code",
   "execution_count": null,
   "metadata": {
    "colab": {
     "base_uri": "https://localhost:8080/",
     "height": 472
    },
    "outputId": "ba77c253-2a9f-47f9-cf58-68770813a65d"
   },
   "outputs": [],
   "source": [
    "# Let's explore the relationship between 'who' and 'age' to see if we can use 'who' for imputing missing ages\n",
    "sns.boxplot(x='who', y='age', data=df)\n",
    "plt.title(\"Age Distribution by Who (Men, Women, Children)\")\n",
    "plt.show()"
   ]
  },
  {
   "cell_type": "markdown",
   "metadata": {},
   "source": [
    "### Insights\n",
    "- The 'age' column has many missing values, and visualizing the missing data shows that age is a significant feature with gaps. We need to address this issue to avoid biasing the model.\n",
    "- By plotting 'age' against 'who', we see distinct distributions: children tend to be younger, while men and women have overlapping but distinct age ranges.\n",
    "- A potential strategy is to impute missing age values based on the 'who' category, filling in likely ages for children, women, and men based on these distributions.\n",
    "- This could provide a more accurate imputation than using the overall mean or median, especially in the case of children who are expected to have significantly lower ages.\n",
    "\n",
    "### Remove NaNs\n",
    "Imputing age could be a good stratgey here. For simplicity, we will just remove the rows where age has any NaNs, but keep in mind that this effectively tosses out ~20% of the data/information we have. In a real-world scenario, imputing is worth testing out."
   ]
  },
  {
   "cell_type": "code",
   "execution_count": null,
   "metadata": {
    "colab": {
     "base_uri": "https://localhost:8080/"
    },
    "outputId": "e9e2e9e7-a22b-4c81-9f34-214a7c294de4"
   },
   "outputs": [],
   "source": [
    "# Drop all rows containing NaN values\n",
    "print(df.shape)\n",
    "df_clean = df.dropna()\n",
    "df_clean.shape"
   ]
  },
  {
   "cell_type": "code",
   "execution_count": null,
   "metadata": {
    "colab": {
     "base_uri": "https://localhost:8080/"
    },
    "outputId": "963993a1-ba63-4073-f300-7059bb583e41"
   },
   "outputs": [],
   "source": [
    "# Count the number of NaN values in each column\n",
    "print(\"Number of NaNs per column:\")\n",
    "print(df_clean.isna().sum())"
   ]
  },
  {
   "cell_type": "markdown",
   "metadata": {},
   "source": [
    "## Step 4: Identifying Outliers (Across Multiple Features)\n",
    "Outliers can distort model performance and influence the relationships between features. We will use boxplots to identify outliers across multiple numerical columns, including 'age', 'fare', 'sibsp', and 'parch'.\n",
    "\n",
    "### Why Look for Outliers?\n",
    "- **Age**: Extreme values (e.g., very young or old passengers) might influence survival predictions.\n",
    "- **Fare**: We've already identified skewness in the fare data, and high fares could represent wealthy individuals who had better chances of survival."
   ]
  },
  {
   "cell_type": "code",
   "execution_count": null,
   "metadata": {
    "colab": {
     "base_uri": "https://localhost:8080/",
     "height": 927
    },
    "outputId": "4f036c94-ef62-4b3d-ba07-c44e36ed3136"
   },
   "outputs": [],
   "source": [
    "import seaborn as sns\n",
    "# Create boxplots for multiple numerical features to check for outliers\n",
    "numerical_cols = ['age', 'fare']\n",
    "\n",
    "for col in numerical_cols:\n",
    "    sns.boxplot(x=df_clean[col])\n",
    "    plt.title(f\"Boxplot of {col.capitalize()}\")\n",
    "    plt.show()"
   ]
  },
  {
   "cell_type": "markdown",
   "metadata": {},
   "source": [
    "### Insights\n",
    "- **Age**: Most passengers fall within a reasonable range, but there are a few extreme values for older passengers. These could be outliers that might need special attention during modeling.\n",
    "- **Fare**: The boxplot confirms the presence of outliers, with several passengers paying significantly more than the majority.\n",
    "\n",
    "## Step 5.1: Probability Density Plot for Fare\n",
    "In addition to the boxplot for identifying outliers, we can draw a probability density plot (PDF) to visualize the overall distribution of the 'fare' column.\n",
    "\n",
    "This plot will show the likelihood of different fare values occurring, highlighting any skewness or concentration of values in certain ranges."
   ]
  },
  {
   "cell_type": "code",
   "execution_count": null,
   "metadata": {
    "colab": {
     "base_uri": "https://localhost:8080/",
     "height": 472
    },
    "outputId": "cc39e8ba-618a-46bb-eacd-7cd69e0c35f3"
   },
   "outputs": [],
   "source": [
    "# Plot the probability density plot (PDF) for fare\n",
    "sns.kdeplot(df_clean['fare'].dropna(), fill=True)\n",
    "plt.title(\"Probability Density Plot for Fare\")\n",
    "plt.xlabel(\"Fare\")\n",
    "plt.ylabel(\"Density\")\n",
    "plt.show()"
   ]
  },
  {
   "cell_type": "markdown",
   "metadata": {},
   "source": [
    "### Insights\n",
    "- The PDF for the fare column shows a strong right skew, with most passengers paying lower fares, but a few passengers paying significantly higher fares.\n",
    "- This confirms the presence of outliers at the higher end, which we also observed in the boxplot.\n",
    "- The density plot helps visualize how fares are concentrated in lower ranges and taper off gradually toward the higher end.\n",
    "\n",
    "## Step 5.2: Log Scaling for Fare\n",
    "To deal with the strong skewness and outliers in the 'fare' column, we can apply a log transformation. This will compress the range of the fare values, reducing the influence of extreme outliers while keeping the relative differences intact.\n",
    "\n",
    "Log scaling is particularly useful for highly skewed distributions, making them more normal-like and easier for models to handle."
   ]
  },
  {
   "cell_type": "code",
   "execution_count": null,
   "metadata": {
    "colab": {
     "base_uri": "https://localhost:8080/",
     "height": 585
    },
    "outputId": "05ce6b1b-f3c7-403e-e11a-242b4f3aa8c1"
   },
   "outputs": [],
   "source": [
    "import numpy as np\n",
    "# Apply log scaling to the fare column (adding 1 to avoid log(0))\n",
    "df_clean.loc[:, 'log_fare'] = df_clean['fare'].apply(lambda x: np.log(x + 1))\n",
    "\n",
    "# Plot the PDF for the log-transformed fare column\n",
    "sns.kdeplot(df_clean['log_fare'].dropna(), fill=True)\n",
    "plt.title(\"Probability Density Plot for Log-Scaled Fare\")\n",
    "plt.xlabel(\"Log(Fare + 1)\")\n",
    "plt.ylabel(\"Density\")\n",
    "plt.show()"
   ]
  },
  {
   "cell_type": "markdown",
   "metadata": {},
   "source": [
    "## Step 6: Exploring Correlations\n",
    "Next, we'll check for correlations between numerical features. This helps us see whether some features are strongly related and could introduce multicollinearity.\n",
    "\n",
    "For example:\n",
    "- Correlations close to 1 or -1 indicate a strong relationship between features.\n",
    "- Correlations close to 0 indicate little to no linear relationship between features.\n",
    "\n",
    "\n",
    "## Step 6.1: Encode categoriecal data as numeric\n",
    "Encoding the categorical data will allow us to measure correlations across different levels of our categorical variables. Encoded data is also needed for the modeling step. After encoding, you may want to visit some of the previous steps in this notebook to ensure there aren't any problems with the encoded version of the data. Some people like to encode right after loading their data, but this can make the data unnecessarily complicated while we do some basic browsing of the data (e.g., check for redundnat columns, check for NaNs, check data types, etc.)\n",
    "\n",
    "Code explanation:\n",
    "\n",
    "* pd.get_dummies(df, drop_first=True): This one-hot encodes all categorical columns, converting them into binary columns. The drop_first=True argument prevents multicollinearity by removing one of the categories in each column (since they are mutually exclusive)."
   ]
  },
  {
   "cell_type": "code",
   "execution_count": null,
   "metadata": {
    "colab": {
     "base_uri": "https://localhost:8080/",
     "height": 206
    },
    "outputId": "4c3c907a-12e7-4a02-d884-9b3d4e5b621e"
   },
   "outputs": [],
   "source": [
    "# One-hot encode the categorical columns in the dataset\n",
    "df_encoded = pd.get_dummies(df, drop_first=True)\n",
    "df_encoded.head()"
   ]
  },
  {
   "cell_type": "markdown",
   "metadata": {},
   "source": [
    "Code explanation.\n",
    "\n",
    "* corr_matrix_encoded = df_encoded.corr(): This computes the correlation matrix for both the numerical and newly one-hot encoded features.\n",
    "* Seaborn heatmap: The heatmap will visualize correlations across all features, both numerical and categorical (now encoded)."
   ]
  },
  {
   "cell_type": "code",
   "execution_count": null,
   "metadata": {
    "colab": {
     "base_uri": "https://localhost:8080/",
     "height": 1000
    },
    "outputId": "24739113-3d11-4883-8614-47db4bd8d8aa"
   },
   "outputs": [],
   "source": [
    "# Calculate the correlation matrix for all features (including one-hot encoded)\n",
    "corr_matrix_encoded = df_encoded.corr()\n",
    "\n",
    "# Plot the heatmap of the correlation matrix\n",
    "plt.figure(figsize=(16, 12))\n",
    "sns.heatmap(corr_matrix_encoded, annot=False, cmap='coolwarm')\n",
    "plt.title(\"Correlation Matrix (Numerical and One-Hot Encoded Features)\")\n",
    "plt.show()\n",
    "corr_matrix_encoded"
   ]
  },
  {
   "cell_type": "markdown",
   "metadata": {},
   "source": [
    "### Insights\n",
    "- There is a strong correlation between 'fare' and 'pclass', which makes sense since higher-class tickets typically have higher fares.\n",
    "- 'SibSp' and 'Parch' have a weak positive correlation, indicating that larger families might be traveling together.\n",
    "- There aren’t many strong correlations with 'survived', suggesting that more advanced feature engineering might be needed to improve model performance.\n",
    "- who_man and adult_male are 100% correlated. We can remove one of these columns.\n",
    "\n",
    "**Pro-tip**: The variance-inflation factor score can also be very helpful for assessing correlation. This measure looks at how well you can predict a given predictor (y) using all other predictors (X) as input variables to a linear regression model. The nice thing about it is that it gives you a different score for each predictor, which can be helpful when deciding which problematic features to remove."
   ]
  },
  {
   "cell_type": "code",
   "execution_count": null,
   "metadata": {},
   "outputs": [],
   "source": [
    "df_encoded.drop('who_man',axis=1,inplace=True)"
   ]
  },
  {
   "cell_type": "markdown",
   "metadata": {},
   "source": [
    "## Step 6.1: Pairplot for Visualizing Pairwise Relationships\n",
    "We’ll use Seaborn's pairplot to visualize pairwise relationships between the numerical features, colored by whether the passenger survived.\n",
    "\n",
    "This can help us identify any patterns or clusters that may inform our modeling decisions."
   ]
  },
  {
   "cell_type": "code",
   "execution_count": null,
   "metadata": {
    "colab": {
     "base_uri": "https://localhost:8080/",
     "height": 1000
    },
    "outputId": "008c9a0c-728c-44e7-e097-aed3ec3b310c"
   },
   "outputs": [],
   "source": [
    "# Pairplot to explore relationships between features, colored by 'survived'\n",
    "sns.pairplot(df_encoded, hue='survived', diag_kind='kde')\n",
    "plt.show()"
   ]
  },
  {
   "cell_type": "markdown",
   "metadata": {},
   "source": [
    "### Insights\n",
    "- The pairplot shows some separation between survivors and non-survivors for certain features, such as 'pclass' and 'adult_male'\n",
    "- The pairwise relationships between 'age', 'fare', and other numerical features are not perfectly linear, suggesting that non-linear models might perform better.\n",
    "- Visualizing these relationships helps in identifying where additional feature engineering may be required to boost model performance.\n",
    "\n",
    "## Conclusion: Next Steps for Modeling and Iterative EDA\n",
    "\n",
    "Now that we've explored the Titanic dataset through extensive EDA, we've gained valuable insights that can guide our next steps in the modeling process. However, it's important to remember that EDA is not a one-time process—it's iterative and should continue as new patterns or issues arise during modeling.\n",
    "\n",
    "### Key Takeaways:\n",
    "1. **Feature Engineering**:\n",
    "   - We've identified that the 'fare' and 'pclass' columns are strongly correlated, suggesting that we might combine or transform these features for better model performance.\n",
    "   - Log scaling 'fare' has helped reduce skewness, making this feature more suitable for modeling. We can apply similar transformations to other skewed features as necessary.\n",
    "   - Features like 'who' and 'age' might benefit from imputation or interaction terms to capture deeper relationships with survival outcomes.\n",
    "\n",
    "2. **Handling Missing Data**:\n",
    "   - 'Age' and 'deck' have substantial missing values. Imputing missing values based on insights from other features (e.g., using 'who' to impute 'age') could improve model robustness. Alternatively, we could explore more advanced techniques like multiple imputation or train models that handle missing data natively.\n",
    "   \n",
    "3. **Addressing Outliers**:\n",
    "   - The high outliers in 'fare' present a potential challenge for models like linear regression. In addition to log scaling, other techniques such as robust models or trimming/capping the extreme values could be useful.\n",
    "\n",
    "4. **Model Selection**:\n",
    "   - With weak correlations between 'survived' and other numerical features, we may need to consider more complex, non-linear models like random forests, gradient boosting, or even deep learning methods that can capture non-linear patterns and interactions.\n",
    "   - The insights from the pairplot suggest that non-linear relationships might exist between certain features, making tree-based models or ensemble methods a promising direction.\n",
    "\n",
    "5. **Iterative EDA**:\n",
    "   - EDA doesn't end here. As we start building models, we may encounter unexpected patterns or issues (e.g., poor model performance on certain subgroups, overfitting due to outliers). This will prompt us to revisit the EDA, iterating on feature engineering, transforming variables, or handling missing data more effectively.\n",
    "   - Evaluating model performance through techniques like cross-validation will provide additional insights, leading to further refinements in both data preprocessing and feature selection.\n",
    "\n",
    "### Inspirational Next Steps:\n",
    "- **Begin Modeling**: Start by testing simple models (e.g., logistic regression) with the current feature set to get a baseline understanding of model performance. Use these models as a foundation for experimenting with more advanced methods.\n",
    "- **Keep Exploring**: Stay curious and open to revisiting your EDA. As you iterate through feature engineering and model development, new questions will arise that could lead to even deeper insights.\n",
    "- **Experiment**: Try different combinations of features, scaling techniques, and models. Use the insights from the EDA to inform these decisions but be prepared to experiment and validate your assumptions.\n",
    "- **Iterate and Improve**: Each iteration of modeling and EDA will bring you closer to a robust solution. Keep refining your approach as new patterns emerge and as your understanding of the dataset deepens.\n",
    "\n",
    "Remember, successful data science projects are not linear—they involve constant refinement, exploration, and learning. Keep iterating, keep questioning, and keep improving!\n",
    "\n",
    "Good luck on your journey from EDA to building powerful predictive models!\n"
   ]
  }
 ],
 "metadata": {
  "kernelspec": {
   "display_name": "Python 3",
   "language": "python",
   "name": "python3"
  }
 },
 "nbformat": 4,
 "nbformat_minor": 4
}
