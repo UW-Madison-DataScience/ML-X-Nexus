{
  "cells": [
    {
      "cell_type": "markdown",
      "metadata": {},
      "source": [
        "---\n",
        "title: \"Notebooks\"\n",
        "listing:\n",
        "  type: grid\n",
        "  sort-ui: false\n",
        "  sort:\n",
        "    - \"date desc\"\n",
        "  fields: [image, date, title, description, categories, author]\n",
        "  categories: true\n",
        "  date-format: \"YYYY-MM-DD\"\n",
        "  page-size: 6\n",
        "  contents:\n",
        "    - \"./*.qmd\"\n",
        "    - \"!./index.qmd\"\n",
        "    - \"!./*.ipynb\"\n",
        "\n",
        "toc: false\n",
        "toc-location: body\n",
        "page-layout: full\n",
        "title-block-banner: false\n",
        "---\n",
        "\n",
        "This section features short, runnable notebooks designed to help you explore specific ML/AI concepts, tools, and workflows. Many can be launched directly via Google Colab using the \"Open in Colab\" button included at the top of each page.\n",
        "\n",
        "These notebooks are meant to be lightweight, interactive learning materials. Some may eventually evolve into full [workshops](https://uw-madison-datascience.github.io/ML-X-Nexus/Learn/Workshops/) using the [Carpentries workbench template](https://github.com/carpentries/workbench-template-md), but each stands on its own as a handy introduction to key ML/AI ideas.\n",
        "\n",
        "Have a notebook that helped you or your team learn something new? We welcome community contributions! [Submit your notebook](https://uw-madison-datascience.github.io/ML-X-Nexus/Learn/Guides/How-to-contribute.html) to help others learn and explore ML/AI more effectively."
      ]
    }
  ],
  "metadata": {
    "kernelspec": {
      "display_name": "Python 3",
      "language": "python",
      "name": "python3"
    }
  },
  "nbformat": 4,
  "nbformat_minor": 4
}