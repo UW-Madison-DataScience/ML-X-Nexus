{
 "cells": [
  {
   "cell_type": "markdown",
   "id": "006648fb",
   "metadata": {},
   "source": [
    "# Notebooks\n",
    "### \n",
    "### [Nexus version](https://uw-madison-datascience.github.io/ML-X-Nexus/Learn/Notebooks/index.html)\n",
    "### Categories\n",
    "\n"
   ]
  },
  {
   "cell_type": "markdown",
   "id": "bf8bcf37",
   "metadata": {},
   "source": [
    "# Notebooks\n",
    "### \n",
    "### [Nexus version](https://uw-madison-datascience.github.io/ML-X-Nexus/Learn/Notebooks/index.html)\n",
    "### Categories\n",
    "\n"
   ]
  },
  {
   "cell_type": "markdown",
   "id": "eca46caa",
   "metadata": {},
   "source": [
    "# Notebooks\n",
    "### \n",
    "### [Nexus version](https://uw-madison-datascience.github.io/ML-X-Nexus/Learn/Notebooks/index.html)\n",
    "### Categories\n",
    "\n"
   ]
  },
  {
   "cell_type": "markdown",
   "id": "fd93b4ad",
   "metadata": {},
   "source": [
    "# Notebooks\n",
    "### \n",
    "### [Nexus version](https://uw-madison-datascience.github.io/ML-X-Nexus/Learn/Notebooks/index.html)\n",
    "### Categories\n",
    "\n"
   ]
  },
  {
   "cell_type": "markdown",
   "id": "a0f19726",
   "metadata": {},
   "source": [
    "# Notebooks\n",
    "### \n",
    "### [Nexus version](https://uw-madison-datascience.github.io/ML-X-Nexus/Learn/Notebooks/index.html)\n",
    "### Categories\n",
    "\n"
   ]
  },
  {
   "cell_type": "markdown",
   "id": "c970253d",
   "metadata": {},
   "source": [
    "# Notebooks\n",
    "### \n",
    "### [Nexus version](https://uw-madison-datascience.github.io/ML-X-Nexus/Learn/Notebooks/index.html)\n",
    "### Categories\n",
    "\n"
   ]
  },
  {
   "cell_type": "markdown",
   "id": "dbad87e4",
   "metadata": {},
   "source": [
    "# Notebooks\n",
    "### \n",
    "### [Nexus version](https://uw-madison-datascience.github.io/ML-X-Nexus/Learn/Notebooks/index.html)\n",
    "### Categories\n",
    "\n"
   ]
  },
  {
   "cell_type": "markdown",
   "id": "e13be3d0",
   "metadata": {},
   "source": [
    "# Notebooks\n",
    "### \n",
    "### [Nexus version](https://uw-madison-datascience.github.io/ML-X-Nexus/Learn/Notebooks/index.html)\n",
    "### Categories\n",
    "\n"
   ]
  },
  {
   "cell_type": "markdown",
   "id": "a371883d",
   "metadata": {},
   "source": [
    "# Notebooks\n",
    "### \n",
    "### [Nexus version](https://uw-madison-datascience.github.io/ML-X-Nexus/Learn/Notebooks/index.html)\n",
    "### Categories\n",
    "\n"
   ]
  },
  {
   "cell_type": "markdown",
   "id": "db8d9b38",
   "metadata": {},
   "source": [
    "# Notebooks\n",
    "### \n",
    "### [Nexus version](https://uw-madison-datascience.github.io/ML-X-Nexus/Learn/Notebooks/index.html)\n",
    "### Categories\n",
    "\n"
   ]
  },
  {
   "cell_type": "markdown",
   "id": "330f4ba6",
   "metadata": {},
   "source": [
    "# Notebooks\n",
    "### \n",
    "### [Nexus version](https://uw-madison-datascience.github.io/ML-X-Nexus/Learn/Notebooks/index.html)\n",
    "### Categories\n",
    "\n"
   ]
  },
  {
   "cell_type": "markdown",
   "id": "004ff37b",
   "metadata": {},
   "source": [
    "# Notebooks\n",
    "### \n",
    "### [Nexus version](https://uw-madison-datascience.github.io/ML-X-Nexus/Learn/Notebooks/index.html)\n",
    "### Categories\n",
    "\n"
   ]
  },
  {
   "cell_type": "markdown",
   "id": "194342ad",
   "metadata": {},
   "source": [
    "# Notebooks\n",
    "### \n",
    "### [Nexus version](https://uw-madison-datascience.github.io/ML-X-Nexus/Learn/Notebooks/index.html)\n",
    "### Categories\n",
    "\n"
   ]
  },
  {
   "cell_type": "markdown",
   "id": "dfe9faa6",
   "metadata": {},
   "source": [
    "# Notebooks\n",
    "### \n",
    "### [Nexus version](https://uw-madison-datascience.github.io/ML-X-Nexus/Learn/Notebooks/index.html)\n",
    "### Categories\n",
    "\n"
   ]
  },
  {
   "cell_type": "markdown",
   "id": "cefe7a42",
   "metadata": {},
   "source": [
    "# Notebooks\n",
    "### \n",
    "### [Nexus version](https://uw-madison-datascience.github.io/ML-X-Nexus/Learn/Notebooks/index.html)\n",
    "### Categories\n",
    "\n"
   ]
  },
  {
   "cell_type": "markdown",
   "id": "3472467b",
   "metadata": {},
   "source": [
    "# Notebooks\n",
    "### \n",
    "### [Nexus version](https://uw-madison-datascience.github.io/ML-X-Nexus/Learn/Notebooks/index.html)\n",
    "### Categories\n",
    "\n"
   ]
  },
  {
   "cell_type": "markdown",
   "id": "afdc36be",
   "metadata": {},
   "source": [
    "# Notebooks\n",
    "### \n",
    "### [Nexus version](https://uw-madison-datascience.github.io/ML-X-Nexus/Learn/Notebooks/index.html)\n",
    "### Categories\n",
    "\n"
   ]
  },
  {
   "cell_type": "markdown",
   "id": "485356bf",
   "metadata": {},
   "source": [
    "# Notebooks\n",
    "### \n",
    "### [Nexus version](https://uw-madison-datascience.github.io/ML-X-Nexus/Learn/Notebooks/index.html)\n",
    "### Categories\n",
    "\n"
   ]
  },
  {
   "cell_type": "markdown",
   "id": "c8a648b6",
   "metadata": {},
   "source": [
    "# Notebooks\n",
    "### \n",
    "### [Nexus version](https://uw-madison-datascience.github.io/ML-X-Nexus/Learn/Notebooks/index.html)\n",
    "### Categories\n",
    "\n"
   ]
  },
  {
   "cell_type": "markdown",
   "id": "bcfe3c11",
   "metadata": {},
   "source": [
    "# Notebooks\n",
    "### \n",
    "### [https://uw-madison-datascience.github.io/ML-X-Nexus/Learn/Notebooks/index.html](https://uw-madison-datascience.github.io/ML-X-Nexus/Learn/Notebooks/index.html)\n",
    "### Categories\n",
    "\n"
   ]
  },
  {
   "cell_type": "markdown",
   "id": "c9733bf8",
   "metadata": {},
   "source": [
    "This section features short, runnable notebooks designed to help you explore specific ML/AI concepts, tools, and workflows. Many can be launched directly via Google Colab using the \"Open in Colab\" button included at the top of each page.\n",
    "\n",
    "These notebooks are meant to be lightweight, interactive learning materials. Some may eventually evolve into full [workshops](https://uw-madison-datascience.github.io/ML-X-Nexus/Learn/Workshops/) using the [Carpentries workbench template](https://github.com/carpentries/workbench-template-md), but each stands on its own as a handy introduction to key ML/AI ideas.\n",
    "\n",
    "Have a notebook that helped you or your team learn something new? We welcome community contributions! [Submit your notebook](https://uw-madison-datascience.github.io/ML-X-Nexus/Learn/Guides/How-to-contribute.html) to help others learn and explore ML/AI more effectively."
   ]
  }
 ],
 "metadata": {
  "kernelspec": {
   "display_name": "Python 3",
   "language": "python",
   "name": "python3"
  }
 },
 "nbformat": 4,
 "nbformat_minor": 4
}
